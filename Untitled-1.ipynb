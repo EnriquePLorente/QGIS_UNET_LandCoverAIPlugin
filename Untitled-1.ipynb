{
 "cells": [
  {
   "cell_type": "code",
   "execution_count": 1,
   "metadata": {},
   "outputs": [],
   "source": [
    "path = r\"c:\\Users\\Enrique\\AppData\\Roaming\\QGIS\\QGIS3\\profiles\\default\\python\\plugins\\LandCoverAI\\images\\icon.jpg\""
   ]
  },
  {
   "cell_type": "code",
   "execution_count": 2,
   "metadata": {},
   "outputs": [
    {
     "name": "stdout",
     "output_type": "stream",
     "text": [
      "Image resized and saved!\n"
     ]
    }
   ],
   "source": [
    "from PIL import Image\n",
    "\n",
    "# Define the path to the image\n",
    "image_path = r\"c:\\Users\\Enrique\\AppData\\Roaming\\QGIS\\QGIS3\\profiles\\default\\python\\plugins\\LandCoverAI\\images\\icon.jpg\"\n",
    "\n",
    "# Open the image\n",
    "img = Image.open(image_path)\n",
    "\n",
    "# Resize the image to 64x64 pixels\n",
    "img_resized = img.resize((32, 32))\n",
    "\n",
    "# Save the resized image (overwrite or save with a new name)\n",
    "img_resized.save(r\"c:\\Users\\Enrique\\AppData\\Roaming\\QGIS\\QGIS3\\profiles\\default\\python\\plugins\\LandCoverAI\\images\\icon.jpg\")\n",
    "\n",
    "print(\"Image resized and saved!\")"
   ]
  }
 ],
 "metadata": {
  "kernelspec": {
   "display_name": "laspy",
   "language": "python",
   "name": "python3"
  },
  "language_info": {
   "codemirror_mode": {
    "name": "ipython",
    "version": 3
   },
   "file_extension": ".py",
   "mimetype": "text/x-python",
   "name": "python",
   "nbconvert_exporter": "python",
   "pygments_lexer": "ipython3",
   "version": "3.9.19"
  }
 },
 "nbformat": 4,
 "nbformat_minor": 2
}
